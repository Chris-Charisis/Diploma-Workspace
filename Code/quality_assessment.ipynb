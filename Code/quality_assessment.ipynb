{
 "cells": [
  {
   "cell_type": "code",
   "execution_count": 54,
   "metadata": {},
   "outputs": [],
   "source": [
    "import numpy as np\n",
    "def apply_mask(data,quality_band):\n",
    "    # 2720 - CLEAR\n",
    "    # 2752 - CLOUD CONFIDENCE MEDIUM\n",
    "    # 2800 - CLOUD\n",
    "    # 2976 - CLOUD SHADOW HIGH\n",
    "    # 3008 - CIRRUS CONFIDENCE LOW\n",
    "    data_values = np.array([2720, 2724, 2728, 2732])\n",
    "    num_of_bands = np.size(data, axis=0)\n",
    "    print(data.shape)\n",
    "    print(quality_band.shape)\n",
    "    \n",
    "    mask = np.where(np.isin(quality_band,data_values), 1, quality_band) \n",
    "    #negative value (-1) because data contain elements with 0 value\n",
    "    mask = np.where(mask!=1, -1, mask) \n",
    "\n",
    "    for i in range(num_of_bands):\n",
    "        data[i] = np.multiply(data[i], mask)\n",
    "    \n",
    "    return np.where(data<0, -9999, data)"
   ]
  }
 ],
 "metadata": {
  "kernelspec": {
   "display_name": "Python 3",
   "language": "python",
   "name": "python3"
  },
  "language_info": {
   "codemirror_mode": {
    "name": "ipython",
    "version": 3
   },
   "file_extension": ".py",
   "mimetype": "text/x-python",
   "name": "python",
   "nbconvert_exporter": "python",
   "pygments_lexer": "ipython3",
   "version": "3.6.9"
  }
 },
 "nbformat": 4,
 "nbformat_minor": 2
}
